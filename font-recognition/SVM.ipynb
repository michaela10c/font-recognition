{
 "cells": [
  {
   "cell_type": "markdown",
   "metadata": {},
   "source": [
    "SVM (RBF Kernel)"
   ]
  },
  {
   "cell_type": "code",
   "execution_count": 2,
   "metadata": {},
   "outputs": [],
   "source": [
    "import numpy as np\n",
    "import pandas\n",
    "from sklearn import linear_model\n",
    "from sklearn import metrics\n",
    "import matplotlib.pyplot as plt\n",
    "from sklearn.metrics import accuracy_score\n",
    "\n",
    "from sklearn import preprocessing\n",
    "\n",
    "from sklearn.svm import SVC"
   ]
  },
  {
   "cell_type": "code",
   "execution_count": 4,
   "metadata": {},
   "outputs": [],
   "source": [
    "Trainfile = pandas.read_csv('train_data.csv')\n",
    "Trainlabels = pandas.read_csv('train_labels.csv')\n",
    "Testfile = pandas.read_csv('test_data.csv')\n",
    "X_train = Trainfile.values\n",
    "Y_train = Trainlabels.values\n",
    "X_test = Testfile.values"
   ]
  },
  {
   "cell_type": "code",
   "execution_count": 1,
   "metadata": {},
   "outputs": [],
   "source": [
    "# 0-1 Normalization\n",
    "def normalize_gaussian(X):\n",
    "    epsilon = 1e-10\n",
    "    X[:,1] = (X[:,1]==0.7) + 0\n",
    "    return (X - np.min(X_train, axis=0)) / (np.max(X_train, axis=0) - np.min(X_train, axis=0) + epsilon)"
   ]
  },
  {
   "cell_type": "code",
   "execution_count": 6,
   "metadata": {},
   "outputs": [],
   "source": [
    "# normalize the input data\n",
    "X_train = normalize_gaussian(X_train)\n",
    "X_test = normalize_gaussian(X_test)"
   ]
  },
  {
   "cell_type": "code",
   "execution_count": 7,
   "metadata": {},
   "outputs": [],
   "source": [
    "def train_and_test(model, filename, pr=False):\n",
    "    model.fit(X_train, Y_train.flatten())\n",
    "    if pr:\n",
    "        print('training accuracy:', accuracy_score(model.predict(X_train), Y_train.flatten()))\n",
    "    Y_test_pred = model.predict(X_test).astype(object)\n",
    "    np.savetxt(filename, np.dstack((np.arange(1, Y_test_pred.size+1),Y_test_pred))[0],\"%d,%s\",header=\"ID,Font\",comments=\"\")"
   ]
  },
  {
   "cell_type": "code",
   "execution_count": 9,
   "metadata": {},
   "outputs": [],
   "source": [
    "# RBF Kernel\n",
    "svclassifier = SVC(kernel='rbf')\n",
    "svclassifier.fit(X_train, Y_train.flatten())\n",
    "Y_test_pred = svclassifier.predict(X_test)\n",
    "np.savetxt(\"mgz27_svmrbf.csv\", np.dstack((np.arange(1, Y_test_pred.size+1),Y_test_pred))[0],\"%d,%s\",header=\"ID,Font\",comments=\"\")\n",
    "# TEST ACCURACY: 14.496% "
   ]
  },
  {
   "cell_type": "code",
   "execution_count": 13,
   "metadata": {},
   "outputs": [],
   "source": [
    "# linear Kernel\n",
    "svclassifier = SVC(kernel='linear')\n",
    "svclassifier.fit(X_train, Y_train.flatten())\n",
    "Y_test_pred = svclassifier.predict(X_test)\n",
    "np.savetxt(\"mgz27_svmlinear.csv\", np.dstack((np.arange(1, Y_test_pred.size+1),Y_test_pred))[0],\"%d,%s\",header=\"ID,Font\",comments=\"\")\n",
    "# TEST ACCURACY: 21.622%"
   ]
  },
  {
   "cell_type": "code",
   "execution_count": 11,
   "metadata": {},
   "outputs": [],
   "source": [
    "# Polynomial Kernel (degree 3)\n",
    "svclassifier = SVC(kernel='poly', degree=3)\n",
    "svclassifier.fit(X_train, Y_train.flatten())\n",
    "Y_test_pred = svclassifier.predict(X_test)\n",
    "np.savetxt(\"mgz27_svmpoly.csv\", np.dstack((np.arange(1, Y_test_pred.size+1),Y_test_pred))[0],\"%d,%s\",header=\"ID,Font\",comments=\"\")\n",
    "# TEST ACCURACY: 39.021%"
   ]
  },
  {
   "cell_type": "code",
   "execution_count": 14,
   "metadata": {},
   "outputs": [],
   "source": [
    "# Sigmoid Kernel\n",
    "svclassifier = SVC(kernel='sigmoid')\n",
    "svclassifier.fit(X_train, Y_train.flatten())\n",
    "Y_test_pred = svclassifier.predict(X_test)\n",
    "np.savetxt(\"mgz27_svmsigmoid.csv\", np.dstack((np.arange(1, Y_test_pred.size+1),Y_test_pred))[0],\"%d,%s\",header=\"ID,Font\",comments=\"\")\n",
    "# TEST ACCURACY: 27.535%"
   ]
  },
  {
   "cell_type": "code",
   "execution_count": null,
   "metadata": {},
   "outputs": [],
   "source": []
  }
 ],
 "metadata": {
  "kernelspec": {
   "display_name": "Python 3",
   "language": "python",
   "name": "python3"
  },
  "language_info": {
   "codemirror_mode": {
    "name": "ipython",
    "version": 3
   },
   "file_extension": ".py",
   "mimetype": "text/x-python",
   "name": "python",
   "nbconvert_exporter": "python",
   "pygments_lexer": "ipython3",
   "version": "3.7.7"
  }
 },
 "nbformat": 4,
 "nbformat_minor": 4
}
