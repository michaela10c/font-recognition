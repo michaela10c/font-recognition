{
 "cells": [
  {
   "cell_type": "markdown",
   "metadata": {},
   "source": [
    "Histogram-based Gradient Boosting"
   ]
  },
  {
   "cell_type": "code",
   "execution_count": 2,
   "metadata": {},
   "outputs": [],
   "source": [
    "import numpy as np\n",
    "import pandas\n",
    "from sklearn import linear_model\n",
    "from sklearn import metrics\n",
    "import matplotlib.pyplot as plt\n",
    "\n",
    "from sklearn.experimental import enable_hist_gradient_boosting  # explicitly require this experimental feature\n",
    "from sklearn.ensemble import HistGradientBoostingClassifier"
   ]
  },
  {
   "cell_type": "code",
   "execution_count": 3,
   "metadata": {},
   "outputs": [],
   "source": [
    "Trainfile = pandas.read_csv('train_data.csv')\n",
    "Trainlabels = pandas.read_csv('train_labels.csv')\n",
    "Testfile = pandas.read_csv('test_data.csv')\n",
    "X_train = Trainfile.values\n",
    "Y_train = Trainlabels.values\n",
    "X_test = Testfile.values"
   ]
  },
  {
   "cell_type": "code",
   "execution_count": 4,
   "metadata": {},
   "outputs": [],
   "source": [
    "def train_and_test(model, filename, pr=False):\n",
    "    model.fit(X_train, Y_train.flatten())\n",
    "    if pr:\n",
    "        print('training accuracy:', accuracy_score(model.predict(X_train), Y_train.flatten()))\n",
    "    Y_test_pred = model.predict(X_test).astype(object)\n",
    "    np.savetxt(filename, np.dstack((np.arange(1, Y_test_pred.size+1),Y_test_pred))[0],\"%d,%s\",header=\"ID,Font\",comments=\"\")"
   ]
  },
  {
   "cell_type": "code",
   "execution_count": 5,
   "metadata": {},
   "outputs": [],
   "source": [
    "# Histogram-based GB classifiers:\n",
    "\n",
    "train_and_test(HistGradientBoostingClassifier(max_iter=1225, max_depth=9), 'histgb.csv')\n",
    "\n",
    "# DEFAULT max leaf nodes = 31\n",
    "\n",
    "# 1200 iterations, max depth 10: 94.366% test accuracy \n",
    "\n",
    "# 1300 iterations, max depth 9: 94.428% test accuracy \n",
    "# 1250 iterations, max depth 9: 94.455% test accuracy \n",
    "# 1245 iterations, max depth 9: 94.462% test accuracy\n",
    "# 1140 iterations, max depth 9: 94.476% test accuracy\n",
    "# 1135 iterations, max depth 9: 94.496% test accuracy\n",
    "# 1230 iterations, max depth 9: 94.496% test accuracy\n",
    "# 1225 iterations, max depth 9: 94.531% test accuracy <- BEST MODEL OVERALL\n",
    "# 1220 iterations, max depth 9: 94.496% test accuracy\n",
    "# 1215 iterations, max depth 9: 94.524% test accuracy \n",
    "# 1210 iterations, max depth 9: 94.510% test accuracy\n",
    "# 1205 iterations, max depth 9: 94.510% test accuracy\n",
    "# 1200 iterations, max depth 9: 94.517% test accuracy \n",
    "# 1195 iterations, max depth 9: 94.510% test accuracy\n",
    "# 1190 iterations, max depth 9: 94.510% test accuracy\n",
    "# 1185 iterations, max depth 9: 94.517% test accuracy\n",
    "# 1180 iterations, max depth 9: 94.503% test accuracy\n",
    "# 1175 iterations, max depth 9: 94.476% test accuracy\n",
    "# 1170 iterations, max depth 9: 94.483% test accuracy\n",
    "# 1165 iterations, max depth 9: 94.476% test accuracy\n",
    "# 1160 iterations, max depth 9: 94.490% test accuracy\n",
    "# 1155 iterations, max depth 9: 94.483% test accuracy\n",
    "# 1150 iterations, max depth 9: 94.366% test accuracy \n",
    "\n",
    "# 1200 iterations, max depth 8: 94.339% test accuracy \n",
    "\n",
    "# 1300 iterations, max depth 7: 94.449% test accuracy \n",
    "# 1250 iterations, max depth 7: 94.442% test accuracy \n",
    "# 1200 iterations, max depth 7: 94.428% test accuracy "
   ]
  },
  {
   "cell_type": "code",
   "execution_count": 6,
   "metadata": {},
   "outputs": [],
   "source": [
    "# max leaf nodes 30, 1250 iterations, max depth 9: 94.414% test accuracy\n",
    "\n",
    "# max leaf nodes 30, 1240 iterations, max depth 9: 94.401% test accuracy\n",
    "\n",
    "# max leaf nodes 45, 1240 iterations, max depth 9: 94.339% test accuracy\n",
    "# max leaf nodes 40, 1240 iterations, max depth 9: 94.264% test accuracy\n",
    "# max leaf nodes 35, 1240 iterations, max depth 9: 94.442% test accuracy\n",
    "# max leaf nodes 30, 1240 iterations, max depth 9: 94.401% test accuracy\n",
    "\n",
    "# max leaf nodes 45, 1235 iterations, max depth 9: 94.339% test accuracy\n",
    "# max leaf nodes 40, 1235 iterations, max depth 9: 94.277% test accuracy\n",
    "# max leaf nodes 35, 1235 iterations, max depth 9: 94.428% test accuracy\n",
    "# max leaf nodes 30, 1235 iterations, max depth 9: 94.387% test accuracy\n",
    "# max leaf nodes 25, 1235 iterations, max depth 9: 94.250% test accuracy \n",
    "\n",
    "# max leaf nodes 45, 1230 iterations, max depth 9: 94.353% test accuracy\n",
    "# max leaf nodes 40, 1230 iterations, max depth 9: 94.277% test accuracy\n",
    "# max leaf nodes 35, 1230 iterations, max depth 9: 94.435% test accuracy\n",
    "# max leaf nodes 30, 1230 iterations, max depth 9: 94.373% test accuracy\n",
    "# max leaf nodes 25, 1230 iterations, max depth 9: 94.264% test accuracy \n",
    "\n",
    "# max leaf nodes 50, 1225 iterations, max depth 9: 94.449% test accuracy\n",
    "# max leaf nodes 45, 1225 iterations, max depth 9: 94.353% test accuracy\n",
    "# max leaf nodes 40, 1225 iterations, max depth 9: 94.291% test accuracy\n",
    "# max leaf nodes 35, 1225 iterations, max depth 9: 94.449% test accuracy\n",
    "# max leaf nodes 32, 1225 iterations, max depth 9: 93.613% test accuracy\n",
    "# max leaf nodes 30, 1225 iterations, max depth 9: 94.394% test accuracy\n",
    "# max leaf nodes 25, 1225 iterations, max depth 9: 94.277% test accuracy \n",
    "# max leaf nodes 20, 1225 iterations, max depth 9: 94.325% test accuracy\n",
    "\n",
    "# max leaf nodes 45, 1220 iterations, max depth 9: 94.360% test accuracy\n",
    "# max leaf nodes 40, 1220 iterations, max depth 9: 94.305% test accuracy\n",
    "# max leaf nodes 35, 1220 iterations, max depth 9: 94.490% test accuracy\n",
    "# max leaf nodes 30, 1220 iterations, max depth 9: 94.394% test accuracy\n",
    "# max leaf nodes 25, 1220 iterations, max depth 9: 94.298% test accuracy \n",
    "\n",
    "# max leaf nodes 45, 1215 iterations, max depth 9: 94.387% test accuracy\n",
    "# max leaf nodes 40, 1215 iterations, max depth 9: 94.271% test accuracy\n",
    "# max leaf nodes 35, 1215 iterations, max depth 9: 94.476% test accuracy\n",
    "# max leaf nodes 32, 1215 iterations, max depth 9: 94.401% test accuracy \n",
    "# max leaf nodes 30, 1215 iterations, max depth 9: 94.353% test accuracy\n",
    "# max leaf nodes 25, 1215 iterations, max depth 9: 94.298% test accuracy \n",
    "\n",
    "# max leaf nodes 45, 1210 iterations, max depth 9: 94.387% test accuracy\n",
    "# max leaf nodes 40, 1210 iterations, max depth 9: 94.236% test accuracy\n",
    "# max leaf nodes 35, 1210 iterations, max depth 9: 94.469% test accuracy\n",
    "# max leaf nodes 30, 1210 iterations, max depth 9: 94.373% test accuracy\n",
    "\n",
    "# max leaf nodes 45, 1205 iterations, max depth 9: 94.360% test accuracy\n",
    "# max leaf nodes 40, 1205 iterations, max depth 9: 94.257% test accuracy\n",
    "# max leaf nodes 35, 1205 iterations, max depth 9: 93.490% test accuracy\n",
    "# max leaf nodes 30, 1205 iterations, max depth 9: 94.380% test accuracy\n",
    "# max leaf nodes 25, 1205 iterations, max depth 9: 94.229% test accuracy \n",
    "\n",
    "# max leaf nodes 45, 1200 iterations, max depth 9: 94.366% test accuracy\n",
    "# max leaf nodes 40, 1200 iterations, max depth 9: 94.291% test accuracy\n",
    "# max leaf nodes 35, 1200 iterations, max depth 9: 94.462% test accuracy\n",
    "# max leaf nodes 30, 1200 iterations, max depth 9: 94.401% test accuracy"
   ]
  }
 ],
 "metadata": {
  "kernelspec": {
   "display_name": "Python 3",
   "language": "python",
   "name": "python3"
  },
  "language_info": {
   "codemirror_mode": {
    "name": "ipython",
    "version": 3
   },
   "file_extension": ".py",
   "mimetype": "text/x-python",
   "name": "python",
   "nbconvert_exporter": "python",
   "pygments_lexer": "ipython3",
   "version": "3.7.6"
  }
 },
 "nbformat": 4,
 "nbformat_minor": 4
}
